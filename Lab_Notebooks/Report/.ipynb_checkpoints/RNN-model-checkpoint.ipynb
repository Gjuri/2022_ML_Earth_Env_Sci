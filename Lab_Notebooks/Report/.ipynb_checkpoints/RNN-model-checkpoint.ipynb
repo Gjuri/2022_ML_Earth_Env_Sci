{
 "cells": [
  {
   "cell_type": "markdown",
   "id": "35e6ac7b-b185-421a-ad37-11339f5a1dcf",
   "metadata": {},
   "source": [
    "### Necessary packages"
   ]
  },
  {
   "cell_type": "code",
   "execution_count": 10,
   "id": "0164a08b-98f3-49cf-b7b7-77b6be17b3b9",
   "metadata": {},
   "outputs": [],
   "source": [
    "# Common imports\n",
    "from datetime import datetime\n",
    "import numpy as np \n",
    "import pandas as pd\n",
    "pd.options.mode.chained_assignment = None # avoid error \n",
    "pd.options.display.float_format = '{:.5f}'.format # No scientific annotation when print dataframe\n",
    "from functools import reduce\n",
    "\n",
    "# ADA and Modeling imports\n",
    "from scipy.stats import stats\n",
    "import tensorflow as tf\n",
    "from tensorflow import keras\n",
    "from tsmoothie.smoother import *\n",
    "\n",
    "# To plot pretty figures\n",
    "import seaborn as sns\n",
    "%matplotlib inline\n",
    "import matplotlib as mpl\n",
    "import matplotlib.pyplot as plt\n",
    "mpl.rc('axes', labelsize=14)\n",
    "mpl.rc('xtick', labelsize=12)\n",
    "mpl.rc('ytick', labelsize=12)\n",
    "\n",
    "\n",
    "# Build function\n",
    "from HelperFunctions import *\n",
    "from Implementation import *\n",
    "\n",
    "# To generate an stable output across runs\n",
    "rnd_seed = 42\n",
    "rnd_gen = np.random.default_rng(rnd_seed)\n"
   ]
  },
  {
   "cell_type": "markdown",
   "id": "fd84fa6a-aecc-447f-9595-ed173e0cc78e",
   "metadata": {},
   "source": [
    "### Importing Data"
   ]
  },
  {
   "cell_type": "code",
   "execution_count": 2,
   "id": "9194e70e-1e73-44ac-8c03-426a5f810b62",
   "metadata": {},
   "outputs": [],
   "source": [
    "LakeConfig, pars,HydroSource,StratSource,HypoSource = ModelConfig(2)\n",
    "StratData, dataseq = DataPreparation_Mendota(StratSource)\n",
    "Inflow =  GetInFlow(StratData.index,HydroSource)\n",
    "HypsoME,NewHypso,obsCDEpi,obsCDHypo,PeakDates,PeakEpi,PeakHypo=  GetLakeData(HypoSource)\n",
    "\n",
    "pars = ( 0.0141929, 22.8315205,  1.0651408,  1.1718688)\n",
    "\n",
    "Pepi,Phyp,Psed= MechanisticModels(LakeConfig,pars,HydroSource,StratSource,HypoSource,StratData,Inflow,HypsoME,NewHypso,obsCDEpi,obsCDHypo,PeakDates,PeakEpi,PeakHypo)\n"
   ]
  },
  {
   "cell_type": "code",
   "execution_count": 3,
   "id": "269d4444-1950-4564-b3cc-30595b24853b",
   "metadata": {},
   "outputs": [],
   "source": [
    "def Volume_calc(NewHypso,LakeConfig,StratData,dataseq):\n",
    "    #### Lake Config Values ####\n",
    "    MeanDepth = (LakeConfig.MeanDepth).item() #m\n",
    "    # nex line is to generate a variable with the same value (25) but with a len of obsTherm to not get error in calculation\n",
    "    zm = (LakeConfig.zm).item()#max depth in m\n",
    "    LakeArea = (LakeConfig.LakeArea).item() #m2\n",
    "    MeanDepth = (LakeConfig.MeanDepth).item() #m\n",
    "    LakeVolume = (LakeArea* MeanDepth)\n",
    "    \n",
    "    if HypsoME.Hypso_cum.values is None:\n",
    "        \n",
    "        obsTherm = pd.DataFrame(round(StratData['Therm'], 1))\n",
    "        # [0] -> to just grab the first value of zm and not get and error for doing math with variables with diff shape\n",
    "        A = ((3*((2*(MeanDepth/zm))-1))*(((zm-obsTherm.Therm)/zm)**2)) - ((2*((3*(MeanDepth/zm))-2))*((zm-obsTherm.Therm)/zm))\n",
    "        V = (((zm-obsTherm.Therm)/zm)+(((3*(MeanDepth/zm))-2)*(((zm-obsTherm.Therm)/zm)**2))-((2*(MeanDepth/zm))-1)*(((zm-obsTherm.Therm)/zm)**3))/((MeanDepth/zm))\n",
    "        V = 1-V\n",
    "    else:\n",
    "        \n",
    "        obsTherm = pd.DataFrame(round(StratData['Therm'], 1))\n",
    "        # Reset index to have the original index of each data frame to then extract the index in which both match\n",
    "        NewHypso.reset_index(inplace = True)\n",
    "        NewHypso['depth'] = round(NewHypso['depth'], 1)\n",
    "\n",
    "        obsTherm.reset_index(inplace = True) # x2 reset in StratData since the 1st takeout sampledate from index and\n",
    "        obsTherm.reset_index(inplace = True) # 2nd reset to pass the original index as a column to then match\n",
    "\n",
    "        # Mask to find  the index position in which the Thermocline depth match with depth of hypso -> index_x\n",
    "        mask =  pd.merge(obsTherm,NewHypso, left_on='Therm', right_on='depth', how = 'left')['index_y']\n",
    "        V = NewHypso.Hypso_cum.iloc[mask].values\n",
    "        \n",
    "    # Calculate epi and hypo volume vectors, which should always add up to lake volume\n",
    "    HypV = (LakeVolume * (1-V))# hypolimnetic volume time series\n",
    "    EpiV = LakeVolume-HypV\n",
    "    \n",
    "    df = pd.DataFrame({'HypV':HypV, 'EpiV':EpiV})\n",
    "    df.index = dataseq.index\n",
    "    return(df)\n",
    "    \n"
   ]
  },
  {
   "cell_type": "code",
   "execution_count": 4,
   "id": "6558378e-6a0a-4d5f-86f8-a9f1f579b9f6",
   "metadata": {},
   "outputs": [],
   "source": [
    "volume = (Volume_calc(NewHypso,LakeConfig,StratData,dataseq))\n",
    "obsCDEpi.rename(columns ={'totpuf_sloh':'ObsPepi'},inplace = True)\n",
    "obsCDEpi.set_index('sampledate',inplace = True)\n",
    "obsCDHypo.rename(columns ={'totpuf_sloh':'ObsPhyp'}, inplace = True)\n",
    "obsCDHypo.set_index('sampledate',inplace = True)\n",
    "Inflow.rename(columns = {'P.g.day':'PLoad','Discharge.m3.d':'Discharge'},inplace = True)\n",
    "\n",
    "MM_P = (pd.DataFrame({'sampledate':dataseq.index,'Pepi':Pepi/volume.EpiV, 'Phyp':Phyp/volume.HypV})).set_index('sampledate')\n",
    "MM_P.rename(columns = {'Pepi':'MM_Pepi','Phyp':'MM_Phyp'},inplace = True)"
   ]
  },
  {
   "cell_type": "code",
   "execution_count": 17,
   "id": "c5cd7e5b-92c3-4f3a-80e8-13e1e421084f",
   "metadata": {},
   "outputs": [],
   "source": [
    "# compile the list of dataframes you want to merge\n",
    "dfs = [volume, obsCDEpi, obsCDHypo,StratData,Inflow,MM_P]\n",
    "\n",
    "df_merged =reduce(lambda a, b: pd.merge(a, b, on='sampledate', how='outer'), dfs)\n",
    "\n",
    "df_Pepi = (df_merged[df_merged['ObsPepi'].notnull()]).drop(['ObsPhyp','MM_Phyp'], axis =1)\n",
    "df_Phyp  = df_merged[df_merged['ObsPhyp'].notnull()].drop(['ObsPepi','MM_Pepi'], axis =1)\n",
    "#df[['EpiTemp','HypoTemp','Strat','Therm','EpiV','HypV','Discharge','PLoad','ObsPepi','ObsPhyp']]\n",
    "df_Pepi= df_Pepi[['EpiTemp','HypoTemp','Strat','Therm','EpiV','HypV','Discharge','PLoad','ObsPepi','MM_Pepi']]\n",
    "df_Phyp= df_Phyp[['EpiTemp','HypoTemp','Strat','Therm','EpiV','HypV','Discharge','PLoad','ObsPhyp','MM_Phyp']]"
   ]
  },
  {
   "cell_type": "code",
   "execution_count": 6,
   "id": "4e4a3211-8e52-48ca-a194-e66ea2574500",
   "metadata": {
    "tags": []
   },
   "outputs": [
    {
     "data": {
      "text/plain": [
       "[<matplotlib.lines.Line2D at 0x16964ccbbb0>]"
      ]
     },
     "execution_count": 6,
     "metadata": {},
     "output_type": "execute_result"
    },
    {
     "data": {
      "image/png": "[encoded data removed]",
      "text/plain": [
       "<Figure size 432x288 with 1 Axes>"
      ]
     },
     "metadata": {
      "needs_background": "light"
     },
     "output_type": "display_data"
    }
   ],
   "source": [
    "plt.plot(df_Pepi.index,df_Pepi.PLoad)\n",
    "#df_Pepi.to_csv('Pepi_mendota.csv')"
   ]
  },
  {
   "cell_type": "code",
   "execution_count": 18,
   "id": "b7230282-766e-463a-bca7-3713ef99da9b",
   "metadata": {},
   "outputs": [
    {
     "data": {
      "text/plain": [
       "[<matplotlib.lines.Line2D at 0x169724714c0>]"
      ]
     },
     "execution_count": 18,
     "metadata": {},
     "output_type": "execute_result"
    },
    {
     "data": {
      "image/png": "[encoded data removed]",
      "text/plain": [
       "<Figure size 432x288 with 1 Axes>"
      ]
     },
     "metadata": {
      "needs_background": "light"
     },
     "output_type": "display_data"
    }
   ],
   "source": [
    "df = df_Pepi.copy()\n",
    "df.PLoad[(df.index > '1997-11-05') & (df.index < '1999-02-15')] = np.nan\n",
    "plt.plot(df.index,df.PLoad)"
   ]
  },
  {
   "cell_type": "code",
   "execution_count": 82,
   "id": "ea931ac7-3023-4330-9a7c-5c5689c35f08",
   "metadata": {},
   "outputs": [
    {
     "data": {
      "text/plain": [
       "<tsmoothie.smoother.KalmanSmoother>"
      ]
     },
     "execution_count": 82,
     "metadata": {},
     "output_type": "execute_result"
    }
   ],
   "source": [
    "### OPERATE SMOOTHING ###\n",
    "\n",
    "smoother = KalmanSmoother(component='level_season', n_seasons=20,\n",
    "                          component_noise={'level':0.5,'season':0.01})\n",
    "smoother.smooth(df.PLoad)"
   ]
  },
  {
   "cell_type": "code",
   "execution_count": 83,
   "id": "e507dc80-7b85-4702-94c0-04af4e5bbd56",
   "metadata": {},
   "outputs": [
    {
     "data": {
      "image/png": "[encoded data removed]",
      "text/plain": [
       "<Figure size 504x360 with 1 Axes>"
      ]
     },
     "metadata": {
      "needs_background": "light"
     },
     "output_type": "display_data"
    }
   ],
   "source": [
    "### COMPARE RECONSTRUCTION WITH ORIGINAL ###\n",
    "\n",
    "plt.figure(figsize=(7,5))\n",
    "plt.plot(smoother.smooth_data.T, c='blue')\n",
    "plt.plot(smoother.data.T, c='orange')\n",
    "np.set_printoptions(False)"
   ]
  },
  {
   "cell_type": "code",
   "execution_count": 43,
   "id": "fa162512-b9a6-4e8c-b058-458501c004f1",
   "metadata": {},
   "outputs": [
    {
     "data": {
      "text/plain": [
       "\u001b[1;31mInit signature:\u001b[0m\n",
       "\u001b[0mKalmanSmoother\u001b[0m\u001b[1;33m(\u001b[0m\u001b[1;33m\n",
       "\u001b[0m    \u001b[0mcomponent\u001b[0m\u001b[1;33m,\u001b[0m\u001b[1;33m\n",
       "\u001b[0m    \u001b[0mcomponent_noise\u001b[0m\u001b[1;33m,\u001b[0m\u001b[1;33m\n",
       "\u001b[0m    \u001b[0mobservation_noise\u001b[0m\u001b[1;33m=\u001b[0m\u001b[1;36m1.0\u001b[0m\u001b[1;33m,\u001b[0m\u001b[1;33m\n",
       "\u001b[0m    \u001b[0mn_seasons\u001b[0m\u001b[1;33m=\u001b[0m\u001b[1;32mNone\u001b[0m\u001b[1;33m,\u001b[0m\u001b[1;33m\n",
       "\u001b[0m    \u001b[0mn_longseasons\u001b[0m\u001b[1;33m=\u001b[0m\u001b[1;32mNone\u001b[0m\u001b[1;33m,\u001b[0m\u001b[1;33m\n",
       "\u001b[0m    \u001b[0mcopy\u001b[0m\u001b[1;33m=\u001b[0m\u001b[1;32mTrue\u001b[0m\u001b[1;33m,\u001b[0m\u001b[1;33m\n",
       "\u001b[0m\u001b[1;33m)\u001b[0m\u001b[1;33m\u001b[0m\u001b[1;33m\u001b[0m\u001b[0m\n",
       "\u001b[1;31mDocstring:\u001b[0m     \n",
       "KalmanSmoother smoothes the timeseries using the Kalman smoothing\n",
       "technique. The Kalman smoother provided here can be represented\n",
       "in the state space form. For this reason, it's necessary to provide\n",
       "an adequate matrix representation of all the components. It's possible\n",
       "to define a Kalman smoother that takes into account the following\n",
       "structure present in our series: 'level', 'trend', 'seasonality' and\n",
       "'long seasonality'. All these features have an addictive behaviour.\n",
       "\n",
       "The KalmanSmoother automatically vectorizes, in an efficient way,\n",
       "the desired smoothing operation on all the series received.\n",
       "\n",
       "Parameters\n",
       "----------\n",
       "component : str\n",
       "    Specify the patterns and the dinamycs present in our series.\n",
       "    The possibilities are: 'level', 'level_trend',\n",
       "    'level_season', 'level_trend_season', 'level_longseason',\n",
       "    'level_trend_longseason', 'level_season_longseason',\n",
       "    'level_trend_season_longseason'. Each single component is\n",
       "    delimited by the '_' notation.\n",
       "\n",
       "component_noise : dict\n",
       "    Specify in a dictionary the noise (in float term) of each single\n",
       "    component provided in the 'component' argument. If a noise of a\n",
       "    component, not provided in the 'component' argument, is provided,\n",
       "    it's automatically ignored.\n",
       "\n",
       "observation_noise : float, default=1.0\n",
       "    The noise level generated by the data measurement.\n",
       "\n",
       "n_seasons : int, default=None\n",
       "    The period of the seasonal component. If a seasonal component\n",
       "    is not provided in the 'component' argument, it's automatically\n",
       "    ignored.\n",
       "\n",
       "n_longseasons : int, default=None\n",
       "    The period of the long seasonal component. If a long seasonal\n",
       "    component is not provided in the 'component' argument, it's\n",
       "    automatically ignored.\n",
       "\n",
       "copy : bool, default=True\n",
       "    If True, the raw data received by the smoother and the smoothed\n",
       "    results can be accessed using 'data' and 'smooth_data' attributes.\n",
       "    This is useful to calculate the intervals. If set to False the\n",
       "    interval calculation is disabled. In order to save memory, set it to\n",
       "    False if you are interested only in the smoothed results.\n",
       "\n",
       "Attributes\n",
       "----------\n",
       "smooth_data : array of shape (series, timesteps)\n",
       "    Smoothed data derived from the smoothing operation. It is accessible\n",
       "    after computhing smoothing, otherwise None is returned.\n",
       "\n",
       "data : array of shape (series, timesteps)\n",
       "    Raw data received by the smoother. It is accessible with 'copy'=True\n",
       "    and  after computhing smoothing, otherwise None is returned.\n",
       "\n",
       "Examples\n",
       "--------\n",
       ">>> import numpy as np\n",
       ">>> from tsmoothie.utils_func import sim_randomwalk\n",
       ">>> from tsmoothie.smoother import *\n",
       ">>> np.random.seed(33)\n",
       ">>> data = sim_randomwalk(n_series=10, timesteps=200,\n",
       "...                       process_noise=10, measure_noise=30)\n",
       ">>> smoother = KalmanSmoother(component='level_trend',\n",
       "...                           component_noise={'level':0.1, 'trend':0.1})\n",
       ">>> smoother.smooth(data)\n",
       ">>> low, up = smoother.get_intervals('kalman_interval')\n",
       "\u001b[1;31mFile:\u001b[0m           c:\\users\\gabri\\anaconda3\\lib\\site-packages\\tsmoothie\\smoother.py\n",
       "\u001b[1;31mType:\u001b[0m           type\n",
       "\u001b[1;31mSubclasses:\u001b[0m     \n"
      ]
     },
     "metadata": {},
     "output_type": "display_data"
    }
   ],
   "source": [
    " KalmanSmoother?"
   ]
  },
  {
   "cell_type": "markdown",
   "id": "ee31cf28-a445-443c-ab0a-92ec53c9fb6e",
   "metadata": {},
   "source": [
    "### Machine learning model\n",
    "\n",
    "Recurrent Neural Network"
   ]
  },
  {
   "cell_type": "code",
   "execution_count": 7,
   "id": "88558146-041f-430e-9d5b-c8db1c999edf",
   "metadata": {},
   "outputs": [],
   "source": [
    "# Let's clear out the backend and set our random seeds\n",
    "# Consistency makes things easier for labs!\n",
    "keras.backend.clear_session()\n",
    "tf.random.set_seed(rnd_seed)\n",
    "np.random.seed(rnd_seed)"
   ]
  }
 ],
 "metadata": {
  "kernelspec": {
   "display_name": "Python 3 (ipykernel)",
   "language": "python",
   "name": "python3"
  },
  "language_info": {
   "codemirror_mode": {
    "name": "ipython",
    "version": 3
   },
   "file_extension": ".py",
   "mimetype": "text/x-python",
   "name": "python",
   "nbconvert_exporter": "python",
   "pygments_lexer": "ipython3",
   "version": "3.9.7"
  }
 },
 "nbformat": 4,
 "nbformat_minor": 5
}
