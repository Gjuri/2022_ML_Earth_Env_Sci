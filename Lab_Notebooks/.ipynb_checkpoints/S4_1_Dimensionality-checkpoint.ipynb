{
 "cells": [
  {
   "cell_type": "markdown",
   "metadata": {
    "colab_type": "text",
    "id": "view-in-github"
   },
   "source": [
    "<a href=\"https://colab.research.google.com/github/tbeucler/2022_ML_Earth_Env_Sci/blob/main/Lab_Notebooks/S4_1_Dimensionality.ipynb\" target=\"_parent\"><img src=\"https://colab.research.google.com/assets/colab-badge.svg\" alt=\"Open In Colab\"/></a>"
   ]
  },
  {
   "cell_type": "markdown",
   "metadata": {
    "id": "fab2zKXwAinB"
   },
   "source": [
    "##**Chapter 8 – Dimensionality Reduction**"
   ]
  },
  {
   "cell_type": "markdown",
   "metadata": {
    "id": "y7Q5WigQxsVd"
   },
   "source": [
    "<img src='https://unils-my.sharepoint.com/:i:/g/personal/tom_beucler_unil_ch/EX7KlNGWYypLnH_53OnJR6oBjfgb_gCZ4gmnOeR68a6zMA?download=1'>\n",
    "<center> Caption: <i>Denise diagnoses an overheated CPU at our data center in The Dalles, Oregon. <br> For more than a decade, we have built some of the world's most efficient servers.</i> <br> Photo from the <a href='https://www.google.com/about/datacenters/gallery/'>Google Data Center gallery</a> </center>"
   ]
  },
  {
   "cell_type": "markdown",
   "metadata": {
    "id": "XGGHmOj1ygXe"
   },
   "source": [
    "*Our world is increasingly filled with data from all sorts of sources, including environmental data. Can we reduce the data to a reduced, meaningful space to save on computation time and increase explainability?*"
   ]
  },
  {
   "cell_type": "markdown",
   "metadata": {
    "id": "AlTDG-57-aAI"
   },
   "source": [
    "This notebook will be used in the lab session for week 4 of the course, covers Chapters 8 of Géron, and builds on the [notebooks made available on _Github_](https://github.com/ageron/handson-ml2).\n",
    "\n",
    "Need a reminder of last week's labs? Click [_here_](https://colab.research.google.com/github/tbeucler/2022_ML_Earth_Env_Sci/blob/main/Lab_Notebooks/Week_3_Decision_Trees_Random_Forests_SVMs.ipynb) to go to notebook for week 3 of the course."
   ]
  },
  {
   "cell_type": "markdown",
   "metadata": {
    "id": "0-WlA6efBRki"
   },
   "source": [
    "##Setup\n",
    "\n",
    "First, let's import a few common modules, ensure MatplotLib plots figures inline and prepare a function to save the figures. We also check that Python 3.5 or later is installed (although Python 2.x may work, it is deprecated so we strongly recommend you use Python 3 instead), as well as Scikit-Learn ≥0.20."
   ]
  },
  {
   "cell_type": "code",
   "execution_count": 1,
   "metadata": {
    "id": "zw6fcA3O-Uls"
   },
   "outputs": [],
   "source": [
    "# Python ≥3.5 is required\n",
    "import sys\n",
    "assert sys.version_info >= (3, 5)\n",
    "\n",
    "# Scikit-Learn ≥0.20 is required\n",
    "import sklearn\n",
    "assert sklearn.__version__ >= \"0.20\"\n",
    "\n",
    "# Common imports\n",
    "import numpy as np\n",
    "import os\n",
    "\n",
    "# to make this notebook's output stable across runs\n",
    "rnd_seed = 42\n",
    "rnd_gen = np.random.default_rng(rnd_seed)\n",
    "\n",
    "# To plot pretty figures\n",
    "%matplotlib inline\n",
    "import matplotlib as mpl\n",
    "import matplotlib.pyplot as plt\n",
    "mpl.rc('axes', labelsize=14)\n",
    "mpl.rc('xtick', labelsize=12)\n",
    "mpl.rc('ytick', labelsize=12)\n",
    "\n",
    "# Where to save the figures\n",
    "PROJECT_ROOT_DIR = \".\"\n",
    "CHAPTER_ID = \"dim_reduction\"\n",
    "IMAGES_PATH = os.path.join(PROJECT_ROOT_DIR, \"images\", CHAPTER_ID)\n",
    "os.makedirs(IMAGES_PATH, exist_ok=True)\n",
    "\n",
    "def save_fig(fig_id, tight_layout=True, fig_extension=\"png\", resolution=300):\n",
    "    path = os.path.join(IMAGES_PATH, fig_id + \".\" + fig_extension)\n",
    "    print(\"Saving figure\", fig_id)\n",
    "    if tight_layout:\n",
    "        plt.tight_layout()\n",
    "    plt.savefig(path, format=fig_extension, dpi=resolution)"
   ]
  },
  {
   "cell_type": "markdown",
   "metadata": {
    "id": "H3QU33M3D--N"
   },
   "source": [
    "## Dimensionality Reduction using PCA\n",
    "\n",
    "This week we'll be looking at how to reduce the dimensionality of a large dataset in order to improve our classifying algorithm's performance! With that in mind, let's being the exercise by loading the MNIST dataset.\n",
    "\n",
    "###**Q1) Load the input features and truth variable into X and y, then split the data into a training and test dataset using scikit's train_test_split method. Use *test_size=0.15*, and remember to set the random state to *rnd_seed!***\n",
    "\n",
    "*Hint 1: The `'data'` and `'target'` keys for mnist will return X and y.*\n",
    "\n",
    "*Hint 2: [Here's the documentation](https://scikit-learn.org/stable/modules/generated/sklearn.model_selection.train_test_split.html) for train/test split.*"
   ]
  },
  {
   "cell_type": "code",
   "execution_count": 2,
   "metadata": {},
   "outputs": [],
   "source": [
    "# Load the mnist dataset\n",
    "from sklearn.datasets import fetch_openml\n",
    "mnist = fetch_openml('mnist_784', version=1, as_frame=False)"
   ]
  },
  {
   "cell_type": "code",
   "execution_count": 3,
   "metadata": {
    "id": "H9slNfR3D-kg"
   },
   "outputs": [],
   "source": [
    "#Complete the code below\n",
    "# Load X and y\n",
    "X = mnist['data']\n",
    "y = mnist['target'].astype(np.uint8)\n",
    "\n",
    "# Import the train/test split function from sklearn\n",
    "\n",
    "# Split the dataset\n",
    "from sklearn.model_selection import train_test_split\n",
    "\n",
    "X_train, X_test, y_train, y_test = train_test_split(X, \n",
    "                                                    y, \n",
    "                                                    test_size = 0.15, \n",
    "                                                    random_state = rnd_seed)"
   ]
  },
  {
   "cell_type": "markdown",
   "metadata": {
    "id": "EhBQOdVxfr2U"
   },
   "source": [
    "We now once again have a training and testing dataset with which to work with. Let's try training a random forest tree classifier on it. You've had experience with them before, so let's have you import the `RandomForestClassifier` from sklearn and instantiate it.\n",
    "\n",
    "###**Q2) Import the `RandomForestClassifier` model from sklearn. Then, instantiate it with 100 estimators and set the random state to `*rnd_seed!*`**\n",
    "\n",
    "*Hint 1: [Here's the documentation](https://scikit-learn.org/stable/modules/generated/sklearn.ensemble.RandomForestClassifier.html) for `RandomForestClassifier`*\n",
    "\n",
    "*Hint 2: [Here's the documentation](https://scikit-learn.org/stable/modules/generated/sklearn.model_selection.train_test_split.html) for train/test split.*"
   ]
  },
  {
   "cell_type": "code",
   "execution_count": 4,
   "metadata": {
    "id": "ZZaWwNGUg9Qb"
   },
   "outputs": [],
   "source": [
    "# Complete the code\n",
    "from sklearn.ensemble import RandomForestClassifier\n",
    "\n",
    "rnd_clf =RandomForestClassifier(n_estimators=100, #Number of estimators \n",
    "                               random_state=rnd_seed) #Random State"
   ]
  },
  {
   "cell_type": "markdown",
   "metadata": {
    "id": "gi1HTS-KjUJ8"
   },
   "source": [
    "We're now going to measure how quickly the algorithm is fitted to the mnist dataset! To do this, we'll have to import the `time` library. With it, we'll be able to get a timestamp immediately before and after we fit the algorithm, and we'll get the time by calculating the difference.\n",
    "\n",
    "###**Q3) Import the time library and calculate how long it takes to fit the `RandomForestClassifier` model.**\n",
    "\n",
    "*Hint 1: [Here's the documentation](https://docs.python.org/3/library/time.html#time.time) to the function used for getting timestamps*\n",
    "\n",
    "*Hint 2: [Here's the documentation](https://scikit-learn.org/stable/modules/generated/sklearn.ensemble.RandomForestClassifier.html#sklearn.ensemble.RandomForestClassifier.fit) for the fitting method used in `RandomForestClassifier`.*"
   ]
  },
  {
   "cell_type": "code",
   "execution_count": 5,
   "metadata": {
    "id": "EZaQPn2XkV06"
   },
   "outputs": [
    {
     "name": "stdout",
     "output_type": "stream",
     "text": [
      "Training took 45.54s\n"
     ]
    }
   ],
   "source": [
    "import time\n",
    "\n",
    "t0 = time.time() # Load the timestamp before running\n",
    "rnd_clf.fit(X,y) # Fit the model with the training data\n",
    "t1 = time.time()  # Load the timestamp after running\n",
    "\n",
    "train_t_rf = t1-t0\n",
    "\n",
    "print(f\"Training took {train_t_rf:.2f}s\")"
   ]
  },
  {
   "cell_type": "markdown",
   "metadata": {
    "id": "X0-hEhlOnLqh"
   },
   "source": [
    "We care about more than just how long we took to trian the model, however! Let's get an accuracy score for our model.\n",
    "\n",
    "###**Q4) Get an accuracy score for the predictions from the RandomForestClassifier**\n",
    "\n",
    "*Hint 1: [Here is the documentation](https://scikit-learn.org/stable/modules/generated/sklearn.metrics.accuracy_score.html) for the `accuracy_score` metric in sklearn.* \n",
    "\n",
    "*Hint 2: [Here is the documentation](https://scikit-learn.org/stable/modules/generated/sklearn.ensemble.RandomForestClassifier.html#sklearn.ensemble.RandomForestClassifier.predict) for the predict method in `RandomForestClassifier`*"
   ]
  },
  {
   "cell_type": "code",
   "execution_count": 6,
   "metadata": {
    "id": "lscBW_sFnLVS"
   },
   "outputs": [
    {
     "name": "stdout",
     "output_type": "stream",
     "text": [
      "RF Model Accuracy: 100.00%\n"
     ]
    }
   ],
   "source": [
    "from sklearn.metrics import accuracy_score # Import the accuracy score metric\n",
    "\n",
    "# Get a set of predictions from the random forest classifier\n",
    "y_pred = rnd_clf.predict(X_test)   # Get a set of predictions from the test set\n",
    "rf_accuracy = accuracy_score(y_test,y_pred)  # Feed in the truth and predictions\n",
    "\n",
    "print(f\"RF Model Accuracy: {rf_accuracy:.2%}\")"
   ]
  },
  {
   "cell_type": "markdown",
   "metadata": {
    "id": "XEZX7xBAHJj9"
   },
   "source": [
    "Let's try doing the same with with a logistic regression algorithm to see how it compares. \n",
    "\n",
    "###**Q5) Repeat Q2-4 with a logistic regression algorithm using sklearn's `LogisticRegression` class. Hyperparameters: `multi_class='multinomial'` and `solver='lbfgs'`**\n",
    "\n",
    "*Hint 1: [Here is the documentation](https://scikit-learn.org/stable/modules/generated/sklearn.linear_model.LogisticRegression.html) for the `LogisticRegression` class."
   ]
  },
  {
   "cell_type": "code",
   "execution_count": 17,
   "metadata": {
    "id": "kwX8ZwzQI6p6"
   },
   "outputs": [
    {
     "name": "stdout",
     "output_type": "stream",
     "text": [
      "Training took 13.76s\n",
      "Log Model Accuracy: 92.07%\n"
     ]
    },
    {
     "name": "stderr",
     "output_type": "stream",
     "text": [
      "C:\\Users\\Gjuri\\.conda\\envs\\ada\\lib\\site-packages\\sklearn\\linear_model\\_logistic.py:814: ConvergenceWarning: lbfgs failed to converge (status=1):\n",
      "STOP: TOTAL NO. of ITERATIONS REACHED LIMIT.\n",
      "\n",
      "Increase the number of iterations (max_iter) or scale the data as shown in:\n",
      "    https://scikit-learn.org/stable/modules/preprocessing.html\n",
      "Please also refer to the documentation for alternative solver options:\n",
      "    https://scikit-learn.org/stable/modules/linear_model.html#logistic-regression\n",
      "  n_iter_i = _check_optimize_result(\n"
     ]
    }
   ],
   "source": [
    "from sklearn.linear_model import LogisticRegression\n",
    "\n",
    "log_clf =LogisticRegression(multi_class=\"multinomial\", #Multiclass\n",
    "                solver=\"lbfgs\", \n",
    "                random_state=42) #Random State\n",
    "\n",
    "t0 = time.time() # Timestamp before training\n",
    "log_clf.fit(X_train, y_train) # Fit the model with the training data\n",
    "t1 = time.time() # Timestamp after training\n",
    "\n",
    "train_t_log = t1-t0\n",
    "print(f\"Training took {train_t_log:.2f}s\")\n",
    "\n",
    "# Get a set of predictions from the logistric regression classifier\n",
    "y_pred = log_clf.predict(X_test)   # Get a set of predictions from the test set\n",
    "log_accuracy = accuracy_score(y_test, y_pred)  # Feed in the truth and predictions\n",
    "\n",
    "print(f\"Log Model Accuracy: {log_accuracy:.2%}\")"
   ]
  },
  {
   "cell_type": "markdown",
   "metadata": {
    "id": "b_5XiaQfJ5NV"
   },
   "source": [
    "Up to now, everything that we've done are things we've done in previous labs - but now we'll get to try out some algorithms useful for reducing dimensionality! Let's use principal component analysis. Here, we'll reduce the space using enough axes to explain over 95% of the variability in the data...\n",
    "\n",
    "###**Q6) Import scikit's implementation of `PCA` and fit it to the training dataset so that 95% of the variability is explained.**\n",
    "\n",
    "*Hint 1: [Here is the documentation](https://scikit-learn.org/stable/modules/generated/sklearn.decomposition.PCA.html) for scikit's `PCA` class.*\n",
    "\n",
    "*Hint 2: [Here is the documentation](https://scikit-learn.org/stable/modules/generated/sklearn.decomposition.PCA.html#sklearn.decomposition.PCA.fit_transform) for scikit's `.fit_transform()` method.*"
   ]
  },
  {
   "cell_type": "code",
   "execution_count": 21,
   "metadata": {},
   "outputs": [
    {
     "data": {
      "image/png": "[encoded data removed]",
      "text/plain": [
       "<Figure size 432x288 with 1 Axes>"
      ]
     },
     "metadata": {
      "needs_background": "light"
     },
     "output_type": "display_data"
    }
   ],
   "source": [
    "pca_pre = PCA(n_components =  None).fit(X_train)\n",
    "cum_pca = np.cumsum(pca_pre.explained_variance_ratio_)\n",
    "plt.plot(cum_pca)\n",
    "plt.xlabel('N° Components')\n",
    "plt.ylabel('Cumulative explained variance');"
   ]
  },
  {
   "cell_type": "code",
   "execution_count": 22,
   "metadata": {
    "id": "rrP5043rJc-1"
   },
   "outputs": [
    {
     "name": "stdout",
     "output_type": "stream",
     "text": [
      "The explained variability is equal to 94.96%\n"
     ]
    }
   ],
   "source": [
    "from sklearn.decomposition import PCA # Importing PCA\n",
    "\n",
    "n_components, = np.where(cum_pca >= 0.95)\n",
    "pca = PCA(n_components=n_components[0]) # Set number of components to explain 95% of variability\n",
    "\n",
    "X_train_reduced = pca.fit_transform(X_train) # Fit-transform the training data    -> learn and transform \n",
    "X_test_reduced = pca.transform(X_test) # Transform the test data (!!No fitting!!) -> transform base on what you already learn\n",
    "\n",
    "ev = sum(pca.explained_variance_ratio_)*100\n",
    "\n",
    "print(f'The explained variability is equal to {ev:.2f}%')"
   ]
  },
  {
   "cell_type": "markdown",
   "metadata": {
    "id": "mKXeXWn4M8K1"
   },
   "source": [
    "###**Q7) Repeat Q3 & Q4 using the reduced X_train dataset instead of X_train.**"
   ]
  },
  {
   "cell_type": "code",
   "execution_count": 23,
   "metadata": {
    "id": "m1oZFFfljH0N"
   },
   "outputs": [
    {
     "name": "stdout",
     "output_type": "stream",
     "text": [
      "Training took 79.79s\n"
     ]
    }
   ],
   "source": [
    "# Complete the code\n",
    "\n",
    "t0 = time.time() # Timestamp before training\n",
    "rnd_clf.fit(X_train_reduced, y_train) # Fit the model with the training data\n",
    "t1 = time.time() # Timestamp after training\n",
    "\n",
    "train_t_rf = t1-t0\n",
    "\n",
    "print(f\"Training took {train_t_rf:.2f}s\")"
   ]
  },
  {
   "cell_type": "code",
   "execution_count": 25,
   "metadata": {
    "id": "jNisAXlgnUMe"
   },
   "outputs": [
    {
     "name": "stdout",
     "output_type": "stream",
     "text": [
      "RF Model Accuracy on reduced dataset: 94.65%\n"
     ]
    }
   ],
   "source": [
    "# Get a set of predictions from the random forest classifier\n",
    "y_pred = rnd_clf.predict(X_test_reduced)   # Get predictions from the reduced test set\n",
    "red_rf_accuracy = accuracy_score(y_pred,y_test)  # Feed in the truth and predictions\n",
    "\n",
    "print(f\"RF Model Accuracy on reduced dataset: {red_rf_accuracy:.2%}\")"
   ]
  },
  {
   "cell_type": "markdown",
   "metadata": {
    "id": "46j-guE8NStk"
   },
   "source": [
    "###**Q8) Repeat Q5 using the reduced X_train dataset instead of X_train.**"
   ]
  },
  {
   "cell_type": "code",
   "execution_count": 26,
   "metadata": {
    "id": "JerFiDoKMpAx"
   },
   "outputs": [
    {
     "name": "stdout",
     "output_type": "stream",
     "text": [
      "Training took 6.55s\n",
      "Log Model Accuracy on reduced training data: 91.35%\n"
     ]
    },
    {
     "name": "stderr",
     "output_type": "stream",
     "text": [
      "C:\\Users\\Gjuri\\.conda\\envs\\ada\\lib\\site-packages\\sklearn\\linear_model\\_logistic.py:814: ConvergenceWarning: lbfgs failed to converge (status=1):\n",
      "STOP: TOTAL NO. of ITERATIONS REACHED LIMIT.\n",
      "\n",
      "Increase the number of iterations (max_iter) or scale the data as shown in:\n",
      "    https://scikit-learn.org/stable/modules/preprocessing.html\n",
      "Please also refer to the documentation for alternative solver options:\n",
      "    https://scikit-learn.org/stable/modules/linear_model.html#logistic-regression\n",
      "  n_iter_i = _check_optimize_result(\n"
     ]
    }
   ],
   "source": [
    "#Complete the code\n",
    "\n",
    "t0 = time.time() # Timestamp before training\n",
    "log_clf.fit(X_train_reduced, y_train) # Fit the model with the reduced training data\n",
    "t1 = time.time() # Timestamp after training\n",
    "\n",
    "train_t_log = t1-t0\n",
    "print(f\"Training took {train_t_log:.2f}s\")\n",
    "\n",
    "# Get a set of predictions from the logistric regression classifier\n",
    "y_pred = log_clf.predict(X_test_reduced)   # Get a set of predictions from the test set\n",
    "log_accuracy = accuracy_score(y_test, y_pred)  # Feed in the truth and predictions\n",
    "\n",
    "print(f\"Log Model Accuracy on reduced training data: {log_accuracy:.2%}\")"
   ]
  },
  {
   "cell_type": "markdown",
   "metadata": {
    "id": "_P_-tnZstz99"
   },
   "source": [
    "You can now compare how well the random forest classifier and logistic regression classifier performed on both the full dataset and the reduced dataset. What were you able to observe? "
   ]
  },
  {
   "cell_type": "markdown",
   "metadata": {
    "id": "6AFlS89UuZTy"
   },
   "source": [
    "Write your comments on the performance of the algorithms in this box, if you'd like 😀\n",
    "(Double click to activate editing mode)"
   ]
  }
 ],
 "metadata": {
  "colab": {
   "authorship_tag": "ABX9TyN3ZLHinjoEVZg3ci9tgSMS",
   "collapsed_sections": [
    "0-WlA6efBRki"
   ],
   "include_colab_link": true,
   "name": "S4_1_Principal.ipynb",
   "provenance": []
  },
  "kernelspec": {
   "display_name": "Python 3 (ipykernel)",
   "language": "python",
   "name": "python3"
  },
  "language_info": {
   "codemirror_mode": {
    "name": "ipython",
    "version": 3
   },
   "file_extension": ".py",
   "mimetype": "text/x-python",
   "name": "python",
   "nbconvert_exporter": "python",
   "pygments_lexer": "ipython3",
   "version": "3.8.12"
  }
 },
 "nbformat": 4,
 "nbformat_minor": 4
}
