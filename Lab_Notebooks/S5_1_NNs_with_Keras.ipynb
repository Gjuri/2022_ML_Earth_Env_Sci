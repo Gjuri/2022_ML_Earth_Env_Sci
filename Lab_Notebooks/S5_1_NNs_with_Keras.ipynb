{
 "cells": [
  {
   "cell_type": "markdown",
   "metadata": {
    "colab_type": "text",
    "id": "view-in-github"
   },
   "source": [
    "<a href=\"https://colab.research.google.com/github/tbeucler/2022_ML_Earth_Env_Sci/blob/main/Lab_Notebooks/S5_1_NNs_with_Keras.ipynb\" target=\"_parent\"><img src=\"https://colab.research.google.com/assets/colab-badge.svg\" alt=\"Open In Colab\"/></a>"
   ]
  },
  {
   "cell_type": "markdown",
   "metadata": {
    "id": "2_Zny8rw4lon"
   },
   "source": [
    "##**Chapter 10 – Introduction to Neural Networks with Keras**"
   ]
  },
  {
   "cell_type": "markdown",
   "metadata": {
    "id": "nD8r1k_osIxa"
   },
   "source": [
    "<center>\n",
    "<img width=100% src='https://unils-my.sharepoint.com/:i:/g/personal/tom_beucler_unil_ch/EWzvoN-LqmBDtvuEXvi3m2MBRr4ACElB77IAfndUaDFVJQ?download=1'><br> Photo Credits: <a href=\"https://unsplash.com/photos/_HRi5kBwGh0\">Galaxy's Edge</a> by <a href=\"https://unsplash.com/@rodlong\">Rod Long</a> licensed under the <a href='https://unsplash.com/license'>Unsplash License</a> "
   ]
  },
  {
   "cell_type": "markdown",
   "metadata": {
    "id": "O5ROFvTFwNab"
   },
   "source": [
    "> *The defnition of AI is a highly contested concept. It often refers to technologies that demonstrate levels of independent intelligence from humans. By its very\n",
    "defnition, it is an intelligence that is differentiated from natural intelligence; it is\n",
    "a constructed, artificial, or machine intelligence.* <br>\n",
    "$\\quad$Ryan, M. (2020). In AI we trust: ethics, artificial intelligence, and reliability. Science and Engineering Ethics, 26(5), 2749-2767."
   ]
  },
  {
   "cell_type": "markdown",
   "metadata": {
    "id": "8oWOJ_ZG42UM"
   },
   "source": [
    "This notebook will be used in the lab session for week 5 of the course, covers Chapters 10 of Géron, and builds on the [notebooks made available on _Github_](https://github.com/ageron/handson-ml2).\n",
    "\n",
    "Need a reminder of last week's labs? Click [_here_](https://colab.research.google.com/github/tbeucler/2022_ML_Earth_Env_Sci/blob/main/Lab_Notebooks/Week_4_Dimensionality_Reduction_Clustering.ipynb) to go to notebook for week 4 of the course."
   ]
  },
  {
   "cell_type": "markdown",
   "metadata": {
    "id": "P8n6IT3L5hc2"
   },
   "source": [
    "## Notebook Setup"
   ]
  },
  {
   "cell_type": "markdown",
   "metadata": {
    "id": "-ZJxkWn35ka2"
   },
   "source": [
    "First, let's import a few common modules, ensure MatplotLib plots figures inline and prepare a function to save the figures. We also check that Python 3.5 or later is installed (although Python 2.x may work, it is deprecated so we strongly recommend you use Python 3 instead), as well as Scikit-Learn ≥0.20 and TensorFlow ≥2.0."
   ]
  },
  {
   "cell_type": "code",
   "execution_count": 1,
   "metadata": {
    "id": "LW5QuuAZ4aMk"
   },
   "outputs": [],
   "source": [
    "# Python ≥3.5 is required\n",
    "import sys\n",
    "assert sys.version_info >= (3, 5)\n",
    "\n",
    "# Scikit-Learn ≥0.20 is required\n",
    "import sklearn\n",
    "assert sklearn.__version__ >= \"0.20\"\n",
    "\n",
    "try:\n",
    "    # %tensorflow_version only exists in Colab.\n",
    "    %tensorflow_version 2.x\n",
    "except Exception:\n",
    "    pass\n",
    "\n",
    "# TensorFlow ≥2.0 is required\n",
    "import tensorflow as tf\n",
    "assert tf.__version__ >= \"2.0\"\n",
    "\n",
    "# Common imports\n",
    "import numpy as np\n",
    "import os\n",
    "\n",
    "# to make this notebook's output stable across runs\n",
    "rnd_seed = 42\n",
    "rnd_gen = np.random.default_rng(rnd_seed)\n",
    "\n",
    "# To plot pretty figures\n",
    "%matplotlib inline\n",
    "import matplotlib as mpl\n",
    "import matplotlib.pyplot as plt\n",
    "mpl.rc('axes', labelsize=14)\n",
    "mpl.rc('xtick', labelsize=12)\n",
    "mpl.rc('ytick', labelsize=12)\n",
    "\n",
    "# Where to save the figures\n",
    "PROJECT_ROOT_DIR = \".\"\n",
    "CHAPTER_ID = \"ann\"\n",
    "IMAGES_PATH = os.path.join(PROJECT_ROOT_DIR, \"images\", CHAPTER_ID)\n",
    "os.makedirs(IMAGES_PATH, exist_ok=True)\n",
    "\n",
    "def save_fig(fig_id, tight_layout=True, fig_extension=\"png\", resolution=300):\n",
    "    path = os.path.join(IMAGES_PATH, fig_id + \".\" + fig_extension)\n",
    "    print(\"Saving figure\", fig_id)\n",
    "    if tight_layout:\n",
    "        plt.tight_layout()\n",
    "    plt.savefig(path, format=fig_extension, dpi=resolution)\n",
    "\n",
    "# Initialize the run_index\n",
    "run_index = None\n",
    "\n",
    "# Loading Tensorboard\n",
    "%load_ext tensorboard"
   ]
  },
  {
   "cell_type": "markdown",
   "metadata": {
    "id": "LcFK6eUo7hZJ"
   },
   "source": [
    "## Data Setup"
   ]
  },
  {
   "cell_type": "markdown",
   "metadata": {
    "id": "kM201pFQ7j0N"
   },
   "source": [
    "Today, we'll once again be working on the MNIST handwritten digit database - we're becoming experts in typography! ✍  \n",
    "\n",
    "Let's begin by importing the dataset from the keras dataset library.\n",
    "\n",
    "### **Q1) Load the MNIST dataset from Keras. Divide it into a training, validation, and test dataset**"
   ]
  },
  {
   "cell_type": "markdown",
   "metadata": {
    "id": "kN1_koqQGNjP"
   },
   "source": [
    "*Hint 1: To access the Keras library, you can either reimport keras (e.g., `import tensorflow.keras as keras`), or you can access it from the instance of tensorflow we imported during setup (i.e., using `tf.keras`)*\n",
    "\n",
    "*Hint 2: [Here is the documentation](https://keras.io/api/datasets/mnist/) for the Keras implementation of the MNIST dataset*\n",
    "\n",
    "*Hint 3: If you use the `mnist.load_data()` method, what will be returned will be a set of tuples: (training_data, testing_data), where training_data and testing_data are tuples of inputs and labels (X, y)*\n",
    "\n",
    "*Hint 4: You can break down the training dataset from the `.load()` method into a training and validation dataset. Since the full training dataset includes 60 000 samples, try using 50 000 samples as training data and 10 000 samples as validation data.*"
   ]
  },
  {
   "cell_type": "code",
   "execution_count": 2,
   "metadata": {
    "id": "Xz4UdXhg8vkH"
   },
   "outputs": [],
   "source": [
    "# Load the keras dataset data\n",
    "( (X_train_full, y_train_full) , (X_test, y_test) ) = tf.keras.datasets.mnist.load_data()"
   ]
  },
  {
   "cell_type": "code",
   "execution_count": 3,
   "metadata": {
    "id": "PcLjZfdIMKrt"
   },
   "outputs": [],
   "source": [
    "# Split the data\n",
    "from sklearn.model_selection import train_test_split\n",
    "X_train,X_valid,y_train, y_valid = train_test_split(X_train_full, y_train_full,train_size = 50000, test_size = 10000)"
   ]
  },
  {
   "cell_type": "markdown",
   "metadata": {
    "id": "_ViiopXOfS3G"
   },
   "source": [
    "What does our data look like? Let's get an idea of the values and figure out what kind of preprocessing we should do before training our neural network.\n",
    "\n",
    "### **Q2) Print the shape of the training, validation, and test sets. Then, print the maximum and minimum input values.**\n"
   ]
  },
  {
   "cell_type": "markdown",
   "metadata": {
    "id": "fkZ7STj2GRi7"
   },
   "source": [
    "*Hint 1: You loaded the data as numpy arrays. Thus, you can rely on the built-in methods for finding the shape and min/max values.*\n",
    "\n",
    "*Hint 2: Click for the documentation on [`ndarray.max()`](https://numpy.org/doc/stable/reference/generated/numpy.ndarray.max.html), [`ndarray.min()`](https://numpy.org/doc/stable/reference/generated/numpy.ndarray.min.html), and [`ndarray.shape`](https://numpy.org/doc/stable/reference/generated/numpy.ndarray.shape.html)*"
   ]
  },
  {
   "cell_type": "code",
   "execution_count": 4,
   "metadata": {
    "id": "tXhz-sgek-yk"
   },
   "outputs": [
    {
     "name": "stdout",
     "output_type": "stream",
     "text": [
      "(50000, 28, 28)\n",
      "(10000, 28, 28)\n",
      "(10000, 28, 28)\n",
      "(50000,)\n",
      "(10000,)\n",
      "(10000,)\n"
     ]
    }
   ],
   "source": [
    "#Write your code here\n",
    "sets = (X_train,X_test,X_valid,y_train,y_test,y_valid)\n",
    "str(sets)\n",
    "for s in sets:\n",
    "    print(s.shape)"
   ]
  },
  {
   "cell_type": "code",
   "execution_count": 5,
   "metadata": {},
   "outputs": [
    {
     "name": "stdout",
     "output_type": "stream",
     "text": [
      "255 0\n",
      "255 0\n",
      "255 0\n",
      "9 0\n",
      "9 0\n",
      "9 0\n"
     ]
    }
   ],
   "source": [
    "for s in sets:\n",
    "    print(s.max(),s.min())"
   ]
  },
  {
   "cell_type": "markdown",
   "metadata": {
    "id": "FDnMybuFk_lb"
   },
   "source": [
    "If you used the same train/validation split as we did, you should have 50k samples in the training set, 10k in the validation set, and 10k in the test set. \n",
    "\n",
    "Since the data represents grayscale image values, data values should vary between 0 and 255; Normalize the data by dividing it by 255.\n",
    "### **Q3) Normalize the input data for the training, validation, and testing sets**"
   ]
  },
  {
   "cell_type": "markdown",
   "metadata": {
    "id": "eEfub-HiGblo"
   },
   "source": [
    "*Hint 1: The datasets are stored as simple numpy arrays, so you can perform arithmetic operations on them!*"
   ]
  },
  {
   "cell_type": "code",
   "execution_count": 6,
   "metadata": {
    "id": "cOpw-2ruonwy"
   },
   "outputs": [],
   "source": [
    "X_train = X_train/ 255\n",
    "X_test = X_test/255\n",
    "X_valid = X_valid/255"
   ]
  },
  {
   "cell_type": "markdown",
   "metadata": {
    "id": "l-VS2NTVv_kW"
   },
   "source": [
    "We now have the normalized training, validation, and testing data that we'll use to train our neural network. Before moving on, it might be worth it to make a small visualiation of samples in our data to ensure that everything worked out correctly.\n",
    "\n",
    "### **Q4) Write a function that: <br> <blockquote>1) Takes in an input dataset and its labels, a number of rows, and a number of columns <br> 2) Prints out a random n_rows by n_columns sample of images with their labels</blockquote>**\n",
    "\n",
    "*Hint 1: You can use the `rnd_seed.integers()` generator to generate a set of integers between 0 and the number of samples, with a size of (rows,columns). [Here is some documentation that can help](https://numpy.org/doc/stable/reference/random/generator.html#simple-random-data). It's best practice to take in the random generator as an argument for your function.*\n",
    "\n",
    "*Hint 2: You can use matplotlib's `fig, axes = plt.subplots()` to make a grid of axes and call the `imshow()` method on each ax in order to plot the digit. It is recommended that you use the `cmap='binary'` argument in imshow to print the digits in black and white*. Click on the links for the documentation to [`plt.sublopts()`](https://matplotlib.org/3.5.0/api/_as_gen/matplotlib.pyplot.subplots.html), [`plt.imshow()`](https://matplotlib.org/3.5.0/api/_as_gen/matplotlib.pyplot.imshow.html), and [the colormaps (i.e., cmap values)](https://matplotlib.org/stable/gallery/color/colormap_reference.html) available in matplotlib.\n",
    "\n",
    "*Hint 3: You can iterate using numpy `ndenumerate()` method, which will return the n-dimensional index of the array and the element located there. This will be useful when iterating through the indices you generated and plotting the corresponding digit and label*\n",
    "\n",
    "*Hint 4: Feeling stuck? [Here is sample code for a way this function can be implemented.](https://unils-my.sharepoint.com/:t:/g/personal/tom_beucler_unil_ch/ERT6Sl_NHp5Nt2YjzkDPzLwB0RQ7_rVAl3RDx4BfHI047g?download=1)*"
   ]
  },
  {
   "cell_type": "code",
   "execution_count": 7,
   "metadata": {
    "id": "qtmdxBHCEs_o"
   },
   "outputs": [],
   "source": [
    "def sample_plotter(X, y, n_rows, n_columns, rnd_gen):\n",
    "    # Create a set of indices to access the sample images/labels\n",
    "    indices = rnd_gen.integers(0,X.shape[0], size=(n_rows, n_columns))\n",
    "    # Create a figure with n_rows and n_columns\n",
    "    fig, axes = plt.subplots(n_rows, n_columns, figsize=(8,6))\n",
    "    # Plot each selected digit\n",
    "    for i, n in np.ndenumerate(indices):\n",
    "        axes[i].imshow(X[n], cmap='binary')\n",
    "        axes[i].axis('off')\n",
    "        axes[i].title.set_text(y[n])\n",
    "      \n",
    "\n",
    "    return None"
   ]
  },
  {
   "cell_type": "markdown",
   "metadata": {
    "id": "Txut6AxUEMac"
   },
   "source": [
    "Now that our function is defined, let's go ahead and print out a 4 row by 8 column sample from each dataset.\n",
    "\n",
    "### **Q5) Grab a 4x8 sample of digits from each dataset and print out the image and labels**"
   ]
  },
  {
   "cell_type": "code",
   "execution_count": 8,
   "metadata": {
    "id": "YZoG0jWzELBI"
   },
   "outputs": [
    {
     "data": {
      "image/png": "[encoded data removed]",
      "text/plain": [
       "<Figure size 576x432 with 32 Axes>"
      ]
     },
     "metadata": {
      "needs_background": "light"
     },
     "output_type": "display_data"
    }
   ],
   "source": [
    "#Write your code here!\n",
    "sample_plotter(X_train_full, y_train_full,4,8,rnd_gen)"
   ]
  },
  {
   "cell_type": "markdown",
   "metadata": {
    "id": "HLkcWwScg-nk"
   },
   "source": [
    "We're now ready to start developing our neural network. The first thing that we want to do is figure out an appropriate learning rate for our model - after all, we want to choose one that converges to a solution *and* is the least computationally expensive possible.\n",
    "\n",
    "Let's start by setting up a keras *callback* [(click here for the documentation)](https://keras.io/api/callbacks/), a type of object that will allow us to change the learning rate after every iteration (i.e., after every batch of data). We will set up what is called an exponential learning rate (that is, the learning will increase by a factor of $k$ after each iteration). Expressed mathematically,\n",
    "\\begin{align}\n",
    "\\eta_{\\scriptsize{t}} = \\eta_{\\scriptsize{0}} \\, \\cdot \\, k^{\\scriptsize{t}}\n",
    "\\end{align}\n",
    "where $t$ is the current iteration. \n",
    "\n",
    "As a reminder, an epoch is an iteration through the entire training dataset, while a batch is an iteration through a predefined subset of . It's important to make this distinction, as ML algorithms are often trained in batches when dealing with large datasets, and we *normally* do not want to change the learning rate in between batches during model training. However, we will do so during this evaluation phase in order to determine an adequate learning rate.\n",
    "\n",
    "We will therefore set a callback that will do two things after the end of each batch:\n",
    "\n",
    "> 1) Keep a track of the losses <br> 2) Adjust the learning rate by multiplying it by a predefined factor"
   ]
  },
  {
   "cell_type": "markdown",
   "metadata": {
    "id": "Gcl58OOaGBxV"
   },
   "source": [
    "### **Q5) Set up an *Exponential_Learning_Rate* callback that, after each batch, logs the value of the loss function and learning rate, and then multiplies the learning rate by a factor of $k$** "
   ]
  },
  {
   "cell_type": "markdown",
   "metadata": {
    "id": "LwAuEHkiF_Xt"
   },
   "source": [
    "*Hint 1: Multiple backend options are available with Keras. We will be using tensorflow, but the code is thought to be written in such a way that a different backend **could** be used. `tf.keras.backend` has a `.backend()` method that allows you to check what backend is being used.*\n",
    "\n",
    "*Hint 2: You should extend the `tf.keras.callbacks.Callback` class. (Confused about extending classes? [Here is a question on stack overflow](https://stackoverflow.com/questions/15526858/how-to-extend-a-class-in-python) that could provide some context) *\n",
    "\n",
    "*Hint 3: The ExponentialLearningRate callback we will implement will need to take in the $k$ factor durint its initialization ([here's a quick overview](https://stackoverflow.com/questions/625083/what-do-init-and-self-do-in-python) on the __init__ contructor method and **self** arguments in classes, with a focus on python.). You will also need to save an empty list as an attribute for both the losses and the learning rates*\n",
    "\n",
    "*Hint 4: Keras model optimizers have an attribute where the learning rate is stored: `model.optimizer.learning_rate`. In order to read the value, you will have to use the keras backend's `.get_value()` method with the model's learning rate as an argument*\n",
    "\n",
    "*Hint 5: the on_train_batch_end method pass the `logs` argument into the function. You can access the loss function by using `logs['loss']`*\n",
    "\n",
    "*Hint 6: In order to set the learning rate to a different value, you will have to depend on the keras backend's `.set_value()` method. This method takes in two arguments: the first is the value that will be set (e.g., the learning rate in the model's optimizer) and the value that it will be set to (e.g., the learning rate multiplied by the k factor).*\n",
    "\n",
    "*Hint 7: Unlike in other documentations we've seen, `backend.get_value()` and `backend.set_value()` don't yet have their own page. However, [here is the link](https://www.tensorflow.org/guide/keras/custom_callback#learning_rate_scheduling) to an example where both methods are used in a learning rate scheduler.*"
   ]
  },
  {
   "cell_type": "code",
   "execution_count": 9,
   "metadata": {
    "id": "fUNJlt80ran6"
   },
   "outputs": [
    {
     "data": {
      "text/plain": [
       "'tensorflow'"
      ]
     },
     "execution_count": 9,
     "metadata": {},
     "output_type": "execute_result"
    }
   ],
   "source": [
    "# We'll start by making it easier to access the keras backend. See hint #1 for\n",
    "# more details\n",
    "K = tf.keras.backend\n",
    "\n",
    "# Use the .backend() method to determine what backend we're running \n",
    "K.backend()"
   ]
  },
  {
   "cell_type": "code",
   "execution_count": 10,
   "metadata": {
    "id": "Xh9OakL3r6hf"
   },
   "outputs": [],
   "source": [
    "# Remember that you can access the keras.backend using K, which we defined in \n",
    "# the code cell above!\n",
    "\n",
    "class ExponentialLearningRate(tf.keras.callbacks.Callback): #define the ExponentialLearningRate class\n",
    "    # Start \n",
    "    def __init__(self, factor):\n",
    "        self.factor = factor # set the factor\n",
    "        self.Losses = [] # initialize the losses list\n",
    "        self.lr = [] # initialize the learning rates list\n",
    "        #self.depth = depth\n",
    "    def on_batch_end(self, batch, logs):  # method, every object insilize will have this build in method\n",
    "        # Add the value of the learning rate to the list\n",
    "        self.lr.append(K.get_value(self.model.optimizer.learning_rate))\n",
    "\n",
    "        # Add the value of the loss\n",
    "        self.Losses.append(logs['loss'])\n",
    "\n",
    "        # Set the value of the \n",
    "        K.set_value(self.model.optimizer.learning_rate, self.model.optimizer.learning_rate * self.factor)"
   ]
  },
  {
   "cell_type": "markdown",
   "metadata": {
    "id": "TOafIE55Z4LK"
   },
   "source": [
    "Now that we've defined out callback, we can go ahead and start thinking about our neural network. For consistency's sake, let's start by clearing the Keras backend and setting our random state."
   ]
  },
  {
   "cell_type": "code",
   "execution_count": 11,
   "metadata": {
    "id": "rC5MYnIFaVdR"
   },
   "outputs": [],
   "source": [
    "# Run this cell\n",
    "K.clear_session()\n",
    "np.random.seed(rnd_seed)\n",
    "tf.random.set_seed(rnd_seed)"
   ]
  },
  {
   "cell_type": "markdown",
   "metadata": {
    "id": "cpoubGhNnVew"
   },
   "source": [
    "Let's make a simple neural network model using Keras. For this, we will rely on a [*Sequential model*](https://keras.io/guides/sequential_model/), since we will want all of the inputs of one layer to be fed into the next layer. We recommend using the architecture described in the diagram below, but feel free to define your own architecture!\n",
    "\n",
    "<center><img width=60% src='https://unils-my.sharepoint.com/:i:/g/personal/tom_beucler_unil_ch/ETl6L_3bHENFt6ZDSgaCpIEBkg2cNPDGowc8u5V8Gxe7XQ?download=1'></center>"
   ]
  },
  {
   "cell_type": "markdown",
   "metadata": {
    "id": "P84Ul1x27QJ3"
   },
   "source": [
    "### **Q6) Write a sequential Keras model that will predict the digit class.**\n",
    "\n"
   ]
  },
  {
   "cell_type": "markdown",
   "metadata": {
    "id": "-fX-GC0_8IuC"
   },
   "source": [
    "*Hint 1: You can add the layers in the sequential model when initializing the model. It expects the layers in a list. Alternatively, you can add them one by one using the model's `.add()` method. [Check out the documentation here](https://keras.io/guides/sequential_model/#creating-a-sequential-model).*\n",
    "\n",
    "*Hint 2: The input images should be flattened before feeding them into any densely connected layers. [Here is the documentation](https://www.tensorflow.org/api_docs/python/tf/keras/layers/Flatten) for the flatten layer.*\n",
    "\n",
    "*Hint 3: You want to use simple, densely connected layers for this exercise. [Here is the documentation](https://www.tensorflow.org/api_docs/python/tf/keras/layers/Dense) for the dense layer.*\n",
    "\n",
    "*Hint 4: Using a dense layer with the number of units set to the number of classes (e.g., the number of different digits in the MNIST dataset: 10) using a softmax activation unit can be interpreted as a probability of the input belonging to a given class. [Here is the documentation](https://keras.io/api/layers/activations/#softmax-function) for the softmax activation function in Keras*"
   ]
  },
  {
   "cell_type": "code",
   "execution_count": 12,
   "metadata": {
    "id": "TPuhRna87LkT"
   },
   "outputs": [],
   "source": [
    "# Create your model! Feel free to use our outline, or make your own from scratch\n",
    "\n",
    "model = tf.keras.models.Sequential([  # call the keras sequential model class\n",
    "                             tf.keras.layers.Flatten(),  # 1st Layer input_shape=(28, 28)\n",
    "                             tf.keras.layers.Dense(300,activation = 'relu'),  # 2nd Layer\n",
    "                             tf.keras.layers.Dense(100,activation = 'relu'),  # 3rd Layer\n",
    "                             tf.keras.layers.Dense(10,activation = 'softmax')]) # 4th Layer"
   ]
  },
  {
   "cell_type": "markdown",
   "metadata": {
    "id": "3BAK1EINKHaN"
   },
   "source": [
    "Now that we have a model defined, we need to run its `.compile()' method, in which we will give the model the following hyper-parameters:\n",
    "> 1) Loss function will be set to sparse categorical cross entropy <br> 2) The optimizer will be set to Stochastic Gradient Descent with a learning rate of 1e-3 <br> 3) The model metrics will include the accuracy score "
   ]
  },
  {
   "cell_type": "markdown",
   "metadata": {
    "id": "h7Dkr99kKvNL"
   },
   "source": [
    "### **Q7) Compile the model with the given hyperparameters (i.e., loss function, optimizer, and metrics) and instantiate the callback we defined previously using a $k$ factor of 1.005 (i.e., a 5% increase in learning rate per batch)**\n",
    "\n"
   ]
  },
  {
   "cell_type": "markdown",
   "metadata": {
    "id": "2aNgAFTsLEjd"
   },
   "source": [
    "*Hint 1: [Here is the documentation](https://www.tensorflow.org/api_docs/python/tf/keras/metrics/sparse_categorical_crossentropy) for the sparse categorical cross entropy loss function in keras. You can simply reference the function using `loss='sparse_categorical_cross_entropy'` when compiling.*\n",
    "\n",
    "*Hint 2: [Here is the documentation](https://www.tensorflow.org/api_docs/python/tf/keras/optimizers/SGD) for the Stochastic Gradient Descent optimizer in keras*\n",
    "\n",
    "*Hint 3: [Here is the documentation](https://www.tensorflow.org/api_docs/python/tf/keras/metrics/Accuracy) for the accuracy score implementation in keras. Like with the sparse_categorical_cross_entropy loss, you can reference the accuracy score in the metrics list, e.g. by setting `metrics=['accuracy']` when compiling.*\n"
   ]
  },
  {
   "cell_type": "code",
   "execution_count": 13,
   "metadata": {
    "id": "e03v7LLuMfSP"
   },
   "outputs": [],
   "source": [
    "model.compile(loss='sparse_categorical_crossentropy', # Set the loss function\n",
    "              optimizer=tf.keras.optimizers.SGD(learning_rate= 0.001), # Set the optimizer and learning rate\n",
    "               metrics=['accuracy']) # Set the metrics\n",
    "\n",
    "#model.save('handwritten.model')\n",
    "#model.fit(x_train, y_train, epochs=3)"
   ]
  },
  {
   "cell_type": "code",
   "execution_count": 14,
   "metadata": {
    "id": "PRYxo1QANhA1"
   },
   "outputs": [],
   "source": [
    "exponential_lr_callback = ExponentialLearningRate(factor=1.005)"
   ]
  },
  {
   "cell_type": "markdown",
   "metadata": {
    "id": "lNIgkpyeM92K"
   },
   "source": [
    "Let's go ahead and train the compiled model for a single epoch. \n"
   ]
  },
  {
   "cell_type": "markdown",
   "metadata": {
    "id": "TiyNQuouRMwQ"
   },
   "source": [
    "### **Q8) Fit the model for a single epoch, using the exponential learning rate callback we defined in the previous code cell. Then, plot the Loss vs Learning rate.**\n",
    "\n",
    "*Hint 1: Just like in scikit-learn, the keras model includes a `.fit()` method to train the algorithm! [Here is the documentation](https://www.tensorflow.org/api_docs/python/tf/keras/Model#fit).*\n",
    "\n",
    "*Hint 2: After training, you can access the recorded losses and corresponding learning rates using the attributes we defined when we defined the class in Q5!*"
   ]
  },
  {
   "cell_type": "code",
   "execution_count": 15,
   "metadata": {
    "id": "OLjEwl0nRbp4"
   },
   "outputs": [
    {
     "name": "stdout",
     "output_type": "stream",
     "text": [
      "1563/1563 [==============================] - 4s 3ms/step - loss: nan - accuracy: 0.6477 - val_loss: nan - val_accuracy: 0.0933\n"
     ]
    }
   ],
   "source": [
    "\n",
    "history = model.fit(X_train, # set the training inputs\n",
    "                    y_train, # set the training labels\n",
    "                    epochs=1,#3, # set the number of epochs\n",
    "                    validation_data=(X_valid, y_valid), # set validation input/labels\n",
    "                    callbacks=[exponential_lr_callback]) # Set the callback"
   ]
  },
  {
   "cell_type": "code",
   "execution_count": 16,
   "metadata": {},
   "outputs": [
    {
     "data": {
      "text/plain": [
       "2.417603"
      ]
     },
     "execution_count": 16,
     "metadata": {},
     "output_type": "execute_result"
    }
   ],
   "source": [
    "max(exponential_lr_callback.lr)"
   ]
  },
  {
   "cell_type": "code",
   "execution_count": 17,
   "metadata": {
    "id": "QrQb1q3DSt4X"
   },
   "outputs": [
    {
     "data": {
      "text/plain": [
       "Text(0, 0.5, 'Loss')"
      ]
     },
     "execution_count": 17,
     "metadata": {},
     "output_type": "execute_result"
    },
    {
     "data": {
      "image/png": "[encoded data removed]",
      "text/plain": [
       "<Figure size 432x288 with 1 Axes>"
      ]
     },
     "metadata": {
      "needs_background": "light"
     },
     "output_type": "display_data"
    }
   ],
   "source": [
    "# Plotting\n",
    "fig, ax = plt.subplots()\n",
    "\n",
    "ax.plot(exponential_lr_callback.lr, # learning rates\n",
    "        exponential_lr_callback.Losses) # losses\n",
    "\n",
    "# Define a tuple with (min_learning_rate, max_learn_rate)\n",
    "x_limits = ( min(exponential_lr_callback.lr), max(exponential_lr_callback.lr))\n",
    "\n",
    "# Set the xscale to logarithmic \n",
    "ax.set_xscale('log')\n",
    "\n",
    "# Draw a horizontal line at the minimum loss value\n",
    "ax.hlines(min(exponential_lr_callback.Losses), #Find the minimum loss value to draw a horizontal line\n",
    "          *x_limits, # the star unpacks x_limits to the expected num of args\n",
    "          'g') \n",
    "\n",
    "# Set the limits for drawing the curvesax.set_xlim(x_limits)\n",
    "ax.set_xlim(x_limits)\n",
    "ax.set_ylim(0, exponential_lr_callback.Losses[0]) # use the initial loss as the top y boundary \n",
    "\n",
    "# Display gridlines to see better\n",
    "ax.grid(which='both')\n",
    "\n",
    "ax.set_xlabel(\"Learning rate\")\n",
    "ax.set_ylabel(\"Loss\")"
   ]
  },
  {
   "cell_type": "markdown",
   "metadata": {
    "id": "fFppBDPtXSdg"
   },
   "source": [
    "If you used the architecture we defined above with the learning rate we defined above, you should produce a graph that looks like this:\n",
    "<center> <img src='https://unils-my.sharepoint.com/:i:/g/personal/tom_beucler_unil_ch/EUhU2fuy3K1Nm5iuia8ocF8BB2-jU_pAf6h5TA8MaIqrfw?download=1'> </center>\n",
    "\n",
    "In this graph, you can see that the loss reaches a minimum at around 6e-1 and then begins to shoot up violently. Let's avoid that by using half that value (e.g., 3e-1). \n",
    "\n",
    "If you have a different curve, try setting your learning rate to half of the learning rate with the minimum loss! 😃\n"
   ]
  },
  {
   "cell_type": "markdown",
   "metadata": {
    "id": "gzSXelTGz5G8"
   },
   "source": [
    "Now that we have an idea of what the learning rate should be, let's go ahead and start from scratch once more."
   ]
  },
  {
   "cell_type": "code",
   "execution_count": 18,
   "metadata": {
    "id": "XwJi4Xi6kVZY"
   },
   "outputs": [],
   "source": [
    "# Run this cell - let's go back to a clean slate!\n",
    "K.clear_session()\n",
    "np.random.seed(rnd_seed)\n",
    "tf.random.set_seed(rnd_seed)"
   ]
  },
  {
   "cell_type": "markdown",
   "metadata": {
    "id": "hlt-kl220Bhu"
   },
   "source": [
    "We also want to instantiate the model again - the weights in our current model are quite bad and if we use it as is it won't be able to learn since the weights are too far away from the solution. There are other ways to do this, but since our model is quite simple it's worth it to just redefine and recompile it."
   ]
  },
  {
   "cell_type": "markdown",
   "metadata": {
    "id": "9EBUr0WPatQn"
   },
   "source": [
    "### **Q9) Redefine and re-compile the model with the learning rate you found in Q8.**"
   ]
  },
  {
   "cell_type": "code",
   "execution_count": 19,
   "metadata": {
    "id": "naT8MpoklIY0"
   },
   "outputs": [],
   "source": [
    "# redefine the model\n",
    "\n",
    "model = tf.keras.models.Sequential([ # call the sequential model class\n",
    "    tf.keras.layers.Flatten(input_shape=(28, 28)), # flatten the data\n",
    "    tf.keras.layers.Dense(300,activation = 'relu'), # densely connected ReLU layer, 300 units\n",
    "    tf.keras.layers.Dense(100,activation = 'relu'), # densely connected ReLU layer, 100 units\n",
    "    tf.keras.layers.Dense(10,activation = 'softmax')]) # densely connected Softmax layer, 10 units\n"
   ]
  },
  {
   "cell_type": "code",
   "execution_count": 20,
   "metadata": {
    "id": "ih9ddZA2bJEE"
   },
   "outputs": [],
   "source": [
    "model.compile(loss='sparse_categorical_crossentropy', # Set the loss function\n",
    "              optimizer=tf.keras.optimizers.SGD(learning_rate= 3e-1), # Set the optimizer and learning rate\n",
    "              metrics=['accuracy']) # Set the metrics"
   ]
  },
  {
   "cell_type": "markdown",
   "metadata": {
    "id": "jLtjB_1gbgcI"
   },
   "source": [
    "We're now going to set up a saving directory in case you want to try running the model with different learning rates or other hyper-parameters!"
   ]
  },
  {
   "cell_type": "code",
   "execution_count": 21,
   "metadata": {
    "id": "Hxqyiz5SbflW"
   },
   "outputs": [
    {
     "name": "stdout",
     "output_type": "stream",
     "text": [
      ".\\my_mnist_logs\\run_001\n"
     ]
    }
   ],
   "source": [
    "#Change this number and rerun this cell whenever you want to change runs\n",
    "run_index = 1 \n",
    "\n",
    "run_logdir = os.path.join(os.curdir, \"my_mnist_logs\", \"run_{:03d}\".format(run_index))\n",
    "\n",
    "print(run_logdir)"
   ]
  },
  {
   "cell_type": "markdown",
   "metadata": {
    "id": "n232QFo3bulH"
   },
   "source": [
    "We'll also set up some additional callbacks.\n",
    "> 1) An early stopping callback ([documentation here](https://www.tensorflow.org/api_docs/python/tf/keras/callbacks/EarlyStopping)). This callback will stop the training if no improvement is found after a `patience` number of epochs. <br> 2) A model checkpoint callback ([documentation here](https://www.tensorflow.org/api_docs/python/tf/keras/callbacks/ModelCheckpoint)). This callback will ensure that only the best version of the model is kept (in case your model's performance reaches a maximum and then deteriorates after a certain number of epochs) <br> 3) A tensorboard callback ([documentation here](https://www.tensorflow.org/api_docs/python/tf/keras/callbacks/TensorBoard)). This callback will enable using Tensorboard to visualize learning curves, metrics, etc. Handy 🙌!"
   ]
  },
  {
   "cell_type": "code",
   "execution_count": 22,
   "metadata": {
    "id": "9m92fjw3bzhp"
   },
   "outputs": [],
   "source": [
    "early_stopping_cb = tf.keras.callbacks.EarlyStopping(patience=20)\n",
    "checkpoint_cb = tf.keras.callbacks.ModelCheckpoint(\"my_mnist_model.h5\", save_best_only=True)\n",
    "tensorboard_cb = tf.keras.callbacks.TensorBoard(run_logdir)"
   ]
  },
  {
   "cell_type": "markdown",
   "metadata": {
    "id": "gohJkkWOd0Qx"
   },
   "source": [
    "Let's go ahead and fit the model again!"
   ]
  },
  {
   "cell_type": "markdown",
   "metadata": {
    "id": "hHX8OjI7fJfN"
   },
   "source": [
    "### **Q10) Fit the updated model for 100 epochs** "
   ]
  },
  {
   "cell_type": "code",
   "execution_count": 23,
   "metadata": {
    "id": "YeN1mGqdb2EK"
   },
   "outputs": [
    {
     "name": "stdout",
     "output_type": "stream",
     "text": [
      "Epoch 1/100\n",
      "1563/1563 [==============================] - 3s 2ms/step - loss: 0.2448 - accuracy: 0.9235 - val_loss: 0.1257 - val_accuracy: 0.9628\n",
      "Epoch 2/100\n",
      "1563/1563 [==============================] - 3s 2ms/step - loss: 0.0993 - accuracy: 0.9700 - val_loss: 0.0998 - val_accuracy: 0.9704\n",
      "Epoch 3/100\n",
      "1563/1563 [==============================] - 3s 2ms/step - loss: 0.0659 - accuracy: 0.9787 - val_loss: 0.1019 - val_accuracy: 0.9734\n",
      "Epoch 4/100\n",
      "1563/1563 [==============================] - 3s 2ms/step - loss: 0.0479 - accuracy: 0.9847 - val_loss: 0.0913 - val_accuracy: 0.9754\n",
      "Epoch 5/100\n",
      "1563/1563 [==============================] - 3s 2ms/step - loss: 0.0366 - accuracy: 0.9878 - val_loss: 0.0978 - val_accuracy: 0.9750\n",
      "Epoch 6/100\n",
      "1563/1563 [==============================] - 3s 2ms/step - loss: 0.0288 - accuracy: 0.9907 - val_loss: 0.0944 - val_accuracy: 0.9775\n",
      "Epoch 7/100\n",
      "1563/1563 [==============================] - 3s 2ms/step - loss: 0.0215 - accuracy: 0.9932 - val_loss: 0.1076 - val_accuracy: 0.9764\n",
      "Epoch 8/100\n",
      "1563/1563 [==============================] - 3s 2ms/step - loss: 0.0202 - accuracy: 0.9936 - val_loss: 0.1158 - val_accuracy: 0.9759\n",
      "Epoch 9/100\n",
      "1563/1563 [==============================] - 3s 2ms/step - loss: 0.0163 - accuracy: 0.9946 - val_loss: 0.1294 - val_accuracy: 0.9719\n",
      "Epoch 10/100\n",
      "1563/1563 [==============================] - 3s 2ms/step - loss: 0.0101 - accuracy: 0.9968 - val_loss: 0.1095 - val_accuracy: 0.9782\n",
      "Epoch 11/100\n",
      "1563/1563 [==============================] - 3s 2ms/step - loss: 0.0078 - accuracy: 0.9976 - val_loss: 0.1196 - val_accuracy: 0.9780\n",
      "Epoch 12/100\n",
      "1563/1563 [==============================] - 3s 2ms/step - loss: 0.0056 - accuracy: 0.9983 - val_loss: 0.1367 - val_accuracy: 0.9763\n",
      "Epoch 13/100\n",
      "1563/1563 [==============================] - 3s 2ms/step - loss: 0.0051 - accuracy: 0.9983 - val_loss: 0.1218 - val_accuracy: 0.9785\n",
      "Epoch 14/100\n",
      "1563/1563 [==============================] - 3s 2ms/step - loss: 0.0062 - accuracy: 0.9981 - val_loss: 0.1060 - val_accuracy: 0.9809\n",
      "Epoch 15/100\n",
      "1563/1563 [==============================] - 3s 2ms/step - loss: 0.0023 - accuracy: 0.9995 - val_loss: 0.1047 - val_accuracy: 0.9809\n",
      "Epoch 16/100\n",
      "1563/1563 [==============================] - 3s 2ms/step - loss: 2.8955e-04 - accuracy: 1.0000 - val_loss: 0.1059 - val_accuracy: 0.9816\n",
      "Epoch 17/100\n",
      "1563/1563 [==============================] - 3s 2ms/step - loss: 1.4360e-04 - accuracy: 1.0000 - val_loss: 0.1099 - val_accuracy: 0.9818\n",
      "Epoch 18/100\n",
      "1563/1563 [==============================] - 3s 2ms/step - loss: 1.0612e-04 - accuracy: 1.0000 - val_loss: 0.1114 - val_accuracy: 0.9820\n",
      "Epoch 19/100\n",
      "1563/1563 [==============================] - 3s 2ms/step - loss: 8.6647e-05 - accuracy: 1.0000 - val_loss: 0.1126 - val_accuracy: 0.9823\n",
      "Epoch 20/100\n",
      "1563/1563 [==============================] - 3s 2ms/step - loss: 7.5138e-05 - accuracy: 1.0000 - val_loss: 0.1138 - val_accuracy: 0.9821\n",
      "Epoch 21/100\n",
      "1563/1563 [==============================] - 3s 2ms/step - loss: 6.6699e-05 - accuracy: 1.0000 - val_loss: 0.1148 - val_accuracy: 0.9821\n",
      "Epoch 22/100\n",
      "1563/1563 [==============================] - 3s 2ms/step - loss: 6.0505e-05 - accuracy: 1.0000 - val_loss: 0.1156 - val_accuracy: 0.9819\n",
      "Epoch 23/100\n",
      "1563/1563 [==============================] - 3s 2ms/step - loss: 5.5196e-05 - accuracy: 1.0000 - val_loss: 0.1163 - val_accuracy: 0.9818\n",
      "Epoch 24/100\n",
      "1563/1563 [==============================] - 3s 2ms/step - loss: 5.0998e-05 - accuracy: 1.0000 - val_loss: 0.1171 - val_accuracy: 0.9818\n"
     ]
    }
   ],
   "source": [
    "history = model.fit(X_train, # set the training inputs\n",
    "                    y_train, # set the training labels\n",
    "                    epochs=100,#3, # set the number of epochs\n",
    "                    validation_data=(X_valid, y_valid),\n",
    "                    callbacks=[checkpoint_cb, early_stopping_cb, tensorboard_cb])"
   ]
  },
  {
   "cell_type": "markdown",
   "metadata": {
    "id": "LvrFsiYJeQ3u"
   },
   "source": [
    "Finally, we need to evaluate the performance of our model. Go ahead and try it out on the test set!\n",
    "\n",
    "### **Q11) Evaluate the model on the test set.**\n",
    "\n",
    "*Hint 1: Keras models include an `evaluate()` method that takes in the test set inputs/labels. [Here is the documentation](https://www.tensorflow.org/api_docs/python/tf/keras/Model#evaluate).*"
   ]
  },
  {
   "cell_type": "code",
   "execution_count": 24,
   "metadata": {
    "id": "-0FIYQzleRWt"
   },
   "outputs": [
    {
     "name": "stdout",
     "output_type": "stream",
     "text": [
      "313/313 [==============================] - 0s 1ms/step - loss: 0.0747 - accuracy: 0.9780\n"
     ]
    },
    {
     "data": {
      "text/plain": [
       "[0.07465057075023651, 0.9779999852180481]"
      ]
     },
     "execution_count": 24,
     "metadata": {},
     "output_type": "execute_result"
    }
   ],
   "source": [
    "# Rollback to best model, which was saved by the callback\n",
    "model = tf.keras.models.load_model(\"my_mnist_model.h5\") # rollback to best model\n",
    "\n",
    "# Evaluate the model\n",
    "model.evaluate(X_test, y_test)"
   ]
  },
  {
   "cell_type": "markdown",
   "metadata": {
    "id": "5y0JJitTgYM9"
   },
   "source": [
    "Finally, we can use tensorboard to check out our model's performance! Note that the tensorboard extension was loaded in the notebook setup cell."
   ]
  },
  {
   "cell_type": "code",
   "execution_count": 25,
   "metadata": {
    "id": "NAnYPOQrgd6m"
   },
   "outputs": [
    {
     "data": {
      "text/plain": [
       "ERROR: Could not find `tensorboard`. Please ensure that your PATH\n",
       "contains an executable `tensorboard` program, or explicitly specify\n",
       "the path to a TensorBoard binary by setting the `TENSORBOARD_BINARY`\n",
       "environment variable."
      ]
     },
     "metadata": {},
     "output_type": "display_data"
    }
   ],
   "source": [
    "%tensorboard --logdir=./my_mnist_logs --port=6006"
   ]
  },
  {
   "cell_type": "markdown",
   "metadata": {
    "id": "HE_XjLrccEtn"
   },
   "source": [
    "An enthusiastic (albeit somewhat sick 😷) TA noted that during the development of the notebook the accuracy reached on the test dataset was 97.84%. Additionally, the tensorboard curves from the test run is given below:\n",
    "<center> <img src='https://unils-my.sharepoint.com/:i:/g/personal/tom_beucler_unil_ch/EXPT4jVOfNZJpkSqD4wNktMByxa9LmH-uq0EU6PIaul27Q?download=1'> </center>"
   ]
  }
 ],
 "metadata": {
  "colab": {
   "collapsed_sections": [
    "_ViiopXOfS3G",
    "l-VS2NTVv_kW"
   ],
   "include_colab_link": true,
   "name": "S5_1_NNs_with_Keras.ipynb",
   "provenance": [],
   "toc_visible": true
  },
  "kernelspec": {
   "display_name": "Python 3 (ipykernel)",
   "language": "python",
   "name": "python3"
  },
  "language_info": {
   "codemirror_mode": {
    "name": "ipython",
    "version": 3
   },
   "file_extension": ".py",
   "mimetype": "text/x-python",
   "name": "python",
   "nbconvert_exporter": "python",
   "pygments_lexer": "ipython3",
   "version": "3.9.7"
  }
 },
 "nbformat": 4,
 "nbformat_minor": 4
}
